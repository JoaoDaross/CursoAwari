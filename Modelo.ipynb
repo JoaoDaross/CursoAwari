{
  "nbformat": 4,
  "nbformat_minor": 0,
  "metadata": {
    "colab": {
      "name": "Modelo.ipynb",
      "provenance": [],
      "authorship_tag": "ABX9TyMmcEiVCMmNMG/cgMLKS7Ml",
      "include_colab_link": true
    },
    "kernelspec": {
      "name": "python3",
      "display_name": "Python 3"
    }
  },
  "cells": [
    {
      "cell_type": "markdown",
      "metadata": {
        "id": "view-in-github",
        "colab_type": "text"
      },
      "source": [
        "<a href=\"https://colab.research.google.com/github/JoaoDaross/CursoAwari/blob/main/Modelo.ipynb\" target=\"_parent\"><img src=\"https://colab.research.google.com/assets/colab-badge.svg\" alt=\"Open In Colab\"/></a>"
      ]
    },
    {
      "cell_type": "markdown",
      "metadata": {
        "id": "A-tyuRCt5jzA"
      },
      "source": [
        "Importando dados preprocessados"
      ]
    },
    {
      "cell_type": "code",
      "metadata": {
        "id": "juo-TYwu4Nvk"
      },
      "source": [
        "import pandas as pd\n",
        "\n",
        "treino = pd.read_csv('https://raw.githubusercontent.com/JoaoDaross/CursoAwari/main/treino_preprocessado.csv')\n",
        "teste = pd.read_csv('https://raw.githubusercontent.com/JoaoDaross/CursoAwari/main/teste_preprocessado.csv')"
      ],
      "execution_count": 2,
      "outputs": []
    },
    {
      "cell_type": "code",
      "metadata": {
        "id": "t3TyN44Q5oXL"
      },
      "source": [
        "# dividindo os dados de treino e teste (X e y)\n",
        "\n",
        "X_train = treino.drop('precos', axis=1)\n",
        "y_train = treino['precos']\n",
        "X_test = teste.drop('precos', axis=1)\n",
        "y_test = teste['precos']"
      ],
      "execution_count": 3,
      "outputs": []
    },
    {
      "cell_type": "markdown",
      "metadata": {
        "id": "rlSuPnIw5qvM"
      },
      "source": [
        "Criando um modelo de base para comparar os resultados (baseline)"
      ]
    },
    {
      "cell_type": "code",
      "metadata": {
        "id": "9rlUH4bp5uZK",
        "outputId": "a3b0a498-5bd8-466b-cb02-af870a39d2d1",
        "colab": {
          "base_uri": "https://localhost:8080/"
        }
      },
      "source": [
        "from sklearn.linear_model import LinearRegression\n",
        "\n",
        "lr = LinearRegression()\n",
        "lr.fit(X_train, y_train)\n",
        "lr.score(X_test, y_test)"
      ],
      "execution_count": 4,
      "outputs": [
        {
          "output_type": "execute_result",
          "data": {
            "text/plain": [
              "0.012382909039824086"
            ]
          },
          "metadata": {
            "tags": []
          },
          "execution_count": 4
        }
      ]
    },
    {
      "cell_type": "code",
      "metadata": {
        "id": "BaQUli8X5w9H",
        "outputId": "16d12ec3-666c-449a-bc64-f4e682e4c110",
        "colab": {
          "base_uri": "https://localhost:8080/"
        }
      },
      "source": [
        "from sklearn.metrics import mean_squared_error, mean_absolute_error\n",
        "import math \n",
        "\n",
        "lr = LinearRegression()\n",
        "lr.fit(X_train, y_train)\n",
        "lr_y_pred = lr.predict(X_test)\n",
        "\n",
        "mse = mean_squared_error(lr_y_pred, y_test)\n",
        "mae = mean_absolute_error(lr_y_pred, y_test)\n",
        "\n",
        "# olhando diferentes métricas\n",
        "print('mse:', mse)\n",
        "print('rmse:', math.sqrt(mse))\n",
        "print('mae:', mae)"
      ],
      "execution_count": 5,
      "outputs": [
        {
          "output_type": "stream",
          "text": [
            "mse: 2.3608600165870186\n",
            "rmse: 1.5365090356346813\n",
            "mae: 0.9404555759013817\n"
          ],
          "name": "stdout"
        }
      ]
    },
    {
      "cell_type": "code",
      "metadata": {
        "id": "0PXWFz365zVC",
        "outputId": "bebff241-3545-41e6-e8ff-4fb35b11db27",
        "colab": {
          "base_uri": "https://localhost:8080/"
        }
      },
      "source": [
        "from sklearn.dummy import DummyRegressor\n",
        "\n",
        "reg = DummyRegressor(strategy='mean')\n",
        "reg.fit(X_train, y_train)\n",
        "reg.score(X_test, y_test)"
      ],
      "execution_count": 6,
      "outputs": [
        {
          "output_type": "execute_result",
          "data": {
            "text/plain": [
              "-6.654056328159186e-08"
            ]
          },
          "metadata": {
            "tags": []
          },
          "execution_count": 6
        }
      ]
    },
    {
      "cell_type": "markdown",
      "metadata": {
        "id": "D48wZCHy53_D"
      },
      "source": [
        "Comparando diferentes modelos de regressão (estimadores)"
      ]
    },
    {
      "cell_type": "code",
      "metadata": {
        "id": "itc1DdJ851mw"
      },
      "source": [
        "from sklearn.linear_model import RidgeCV, Lasso, ElasticNet, LassoLars, HuberRegressor\n",
        "from sklearn.svm import SVR\n",
        "from sklearn.neighbors import KNeighborsRegressor\n",
        "from sklearn.ensemble import GradientBoostingRegressor, AdaBoostRegressor\n",
        "from sklearn.neural_network import MLPRegressor\n",
        "from sklearn.ensemble import RandomForestRegressor"
      ],
      "execution_count": 7,
      "outputs": []
    },
    {
      "cell_type": "code",
      "metadata": {
        "id": "iL-8cdke575J"
      },
      "source": [
        "reg_list = [RidgeCV(),\n",
        "            SVR(),\n",
        "            KNeighborsRegressor(),\n",
        "            RandomForestRegressor(),\n",
        "            AdaBoostRegressor(),\n",
        "            GradientBoostingRegressor(),\n",
        "            MLPRegressor()\n",
        "            ]"
      ],
      "execution_count": 8,
      "outputs": []
    },
    {
      "cell_type": "code",
      "metadata": {
        "id": "RRqPDvD76BFW",
        "outputId": "83160ac4-e62b-4427-cd0f-b31c579cdef4",
        "colab": {
          "base_uri": "https://localhost:8080/"
        }
      },
      "source": [
        "from sklearn.model_selection import cross_val_score\n",
        "import numpy as np\n",
        "\n",
        "for reg in reg_list:\n",
        "    print(f'Treinando o modelo {reg.__class__.__name__}')\n",
        "    reg.fit(X_train, y_train)\n",
        "    \n",
        "    train_score = reg.score(X_train, y_train)\n",
        "    cv_scores = cross_val_score(reg, X_train, y_train)\n",
        "    test_score = reg.score(X_test, y_test)\n",
        "    \n",
        "    print(f\"R² treino: {train_score}\")\n",
        "    print(f\"R² validação : {np.mean(cv_scores):.2f} +- {np.std(cv_scores):.2f}\")\n",
        "    print(f\"R² teste: {test_score}\")\n",
        "    print('-'*70)"
      ],
      "execution_count": 9,
      "outputs": [
        {
          "output_type": "stream",
          "text": [
            "Treinando o modelo RidgeCV\n",
            "R² treino: 0.04944626631224058\n",
            "R² validação : 0.02 +- 0.03\n",
            "R² teste: 0.01437775664853236\n",
            "----------------------------------------------------------------------\n",
            "Treinando o modelo SVR\n",
            "R² treino: -0.09404811596340656\n",
            "R² validação : -0.10 +- 0.05\n",
            "R² teste: -0.10290984958936789\n",
            "----------------------------------------------------------------------\n",
            "Treinando o modelo KNeighborsRegressor\n",
            "R² treino: 0.27042583142122545\n",
            "R² validação : -0.02 +- 0.11\n",
            "R² teste: 0.11538007828409234\n",
            "----------------------------------------------------------------------\n",
            "Treinando o modelo RandomForestRegressor\n",
            "R² treino: 0.46995271338920713\n",
            "R² validação : -0.17 +- 0.17\n",
            "R² teste: 0.08589069513071335\n",
            "----------------------------------------------------------------------\n",
            "Treinando o modelo AdaBoostRegressor\n",
            "R² treino: 0.014366078746962163\n",
            "R² validação : -0.06 +- 0.09\n",
            "R² teste: -0.0145990054773244\n",
            "----------------------------------------------------------------------\n",
            "Treinando o modelo GradientBoostingRegressor\n",
            "R² treino: 0.31399877055840075\n",
            "R² validação : -0.02 +- 0.09\n",
            "R² teste: 0.14597450696491254\n",
            "----------------------------------------------------------------------\n",
            "Treinando o modelo MLPRegressor\n"
          ],
          "name": "stdout"
        },
        {
          "output_type": "stream",
          "text": [
            "/usr/local/lib/python3.6/dist-packages/sklearn/neural_network/_multilayer_perceptron.py:571: ConvergenceWarning: Stochastic Optimizer: Maximum iterations (200) reached and the optimization hasn't converged yet.\n",
            "  % self.max_iter, ConvergenceWarning)\n",
            "/usr/local/lib/python3.6/dist-packages/sklearn/neural_network/_multilayer_perceptron.py:571: ConvergenceWarning: Stochastic Optimizer: Maximum iterations (200) reached and the optimization hasn't converged yet.\n",
            "  % self.max_iter, ConvergenceWarning)\n",
            "/usr/local/lib/python3.6/dist-packages/sklearn/neural_network/_multilayer_perceptron.py:571: ConvergenceWarning: Stochastic Optimizer: Maximum iterations (200) reached and the optimization hasn't converged yet.\n",
            "  % self.max_iter, ConvergenceWarning)\n",
            "/usr/local/lib/python3.6/dist-packages/sklearn/neural_network/_multilayer_perceptron.py:571: ConvergenceWarning: Stochastic Optimizer: Maximum iterations (200) reached and the optimization hasn't converged yet.\n",
            "  % self.max_iter, ConvergenceWarning)\n",
            "/usr/local/lib/python3.6/dist-packages/sklearn/neural_network/_multilayer_perceptron.py:571: ConvergenceWarning: Stochastic Optimizer: Maximum iterations (200) reached and the optimization hasn't converged yet.\n",
            "  % self.max_iter, ConvergenceWarning)\n"
          ],
          "name": "stderr"
        },
        {
          "output_type": "stream",
          "text": [
            "R² treino: 0.10354119899901326\n",
            "R² validação : 0.05 +- 0.02\n",
            "R² teste: 0.06325211272552367\n",
            "----------------------------------------------------------------------\n"
          ],
          "name": "stdout"
        },
        {
          "output_type": "stream",
          "text": [
            "/usr/local/lib/python3.6/dist-packages/sklearn/neural_network/_multilayer_perceptron.py:571: ConvergenceWarning: Stochastic Optimizer: Maximum iterations (200) reached and the optimization hasn't converged yet.\n",
            "  % self.max_iter, ConvergenceWarning)\n"
          ],
          "name": "stderr"
        }
      ]
    },
    {
      "cell_type": "code",
      "metadata": {
        "id": "xYdHp8iN6D1a"
      },
      "source": [
        "# Bonus: testando com todos os regressores do sklearn\n",
        "from sklearn.utils import all_estimators\n",
        "\n",
        "estimators = all_estimators(type_filter='regressor')\n",
        "\n",
        "relatorio = {'nome':[],\n",
        "             'train_score':[],\n",
        "             'cv_scores_mean':[],\n",
        "             'test_score':[],\n",
        "             'estimador':[]\n",
        "             }\n",
        "\n",
        "ignore_list = ['IsotonicRegression',\n",
        " 'MultiOutputRegressor',\n",
        " 'ElasticNet',\n",
        " 'MultiTaskElasticNet',\n",
        " 'MultiTaskElasticNetCV',\n",
        " 'MultiTaskLasso',\n",
        " 'MultiTaskLassoCV',\n",
        " 'RadiusNeighborsRegressor',\n",
        " 'RegressorChain',\n",
        " 'StackingRegressor',\n",
        " 'VotingRegressor']"
      ],
      "execution_count": 10,
      "outputs": []
    },
    {
      "cell_type": "code",
      "metadata": {
        "id": "jT732FkR6Hva",
        "outputId": "4bfbf86c-1c28-4bb7-a9b5-0dc60cce141e",
        "colab": {
          "base_uri": "https://localhost:8080/"
        }
      },
      "source": [
        "for name, RegressorClass in estimators:\n",
        "    if name not in ignore_list:\n",
        "        print(f'Treinando o modelo {name}')\n",
        "        reg = RegressorClass()\n",
        "        reg.fit(X_train, y_train)\n",
        "\n",
        "        train_score = reg.score(X_train, y_train)\n",
        "        cv_scores = cross_val_score(reg, X_train, y_train)\n",
        "        test_score = reg.score(X_test, y_test)\n",
        "\n",
        "        print(f\"R² treino: {train_score}\")\n",
        "        print(f\"R² validação: {np.mean(cv_scores):.2f} +- {np.std(cv_scores):.2f}\")\n",
        "        print(f\"R² teste: {test_score}\")\n",
        "        print('-'*70)\n",
        "\n",
        "        relatorio['nome'].append(name)\n",
        "        relatorio['train_score'].append(train_score)\n",
        "        relatorio['cv_scores_mean'].append(np.mean(cv_scores))\n",
        "        relatorio['test_score'].append(test_score)\n",
        "        relatorio['estimador'].append(reg)"
      ],
      "execution_count": 11,
      "outputs": [
        {
          "output_type": "stream",
          "text": [
            "Treinando o modelo ARDRegression\n",
            "R² treino: 0.04790389539098927\n",
            "R² validação: 0.02 +- 0.03\n",
            "R² teste: 0.016736502060411773\n",
            "----------------------------------------------------------------------\n",
            "Treinando o modelo AdaBoostRegressor\n",
            "R² treino: 0.06732403972449796\n",
            "R² validação: -0.04 +- 0.11\n",
            "R² teste: 0.05756186145354659\n",
            "----------------------------------------------------------------------\n",
            "Treinando o modelo BaggingRegressor\n",
            "R² treino: 0.4443941454407897\n",
            "R² validação: -0.23 +- 0.17\n",
            "R² teste: 0.13217803335765754\n",
            "----------------------------------------------------------------------\n",
            "Treinando o modelo BayesianRidge\n",
            "R² treino: 0.04854050729586945\n",
            "R² validação: 0.02 +- 0.03\n",
            "R² teste: 0.018194167562858632\n",
            "----------------------------------------------------------------------\n",
            "Treinando o modelo CCA\n",
            "R² treino: -0.21379029353079537\n",
            "R² validação: -0.34 +- 0.30\n",
            "R² teste: -0.31615226221832393\n",
            "----------------------------------------------------------------------\n",
            "Treinando o modelo DecisionTreeRegressor\n",
            "R² treino: 0.5122363073776075\n",
            "R² validação: -0.43 +- 0.29\n",
            "R² teste: 0.026723962610129215\n",
            "----------------------------------------------------------------------\n",
            "Treinando o modelo DummyRegressor\n",
            "R² treino: 0.0\n",
            "R² validação: -0.01 +- 0.01\n",
            "R² teste: -6.654056328159186e-08\n",
            "----------------------------------------------------------------------\n",
            "Treinando o modelo ElasticNetCV\n"
          ],
          "name": "stdout"
        },
        {
          "output_type": "stream",
          "text": [
            "/usr/local/lib/python3.6/dist-packages/sklearn/cross_decomposition/_pls.py:321: UserWarning: Y residual constant at iteration 1\n",
            "  warnings.warn('Y residual constant at iteration %s' % k)\n",
            "/usr/local/lib/python3.6/dist-packages/sklearn/cross_decomposition/_pls.py:321: UserWarning: Y residual constant at iteration 1\n",
            "  warnings.warn('Y residual constant at iteration %s' % k)\n",
            "/usr/local/lib/python3.6/dist-packages/sklearn/cross_decomposition/_pls.py:321: UserWarning: Y residual constant at iteration 1\n",
            "  warnings.warn('Y residual constant at iteration %s' % k)\n",
            "/usr/local/lib/python3.6/dist-packages/sklearn/cross_decomposition/_pls.py:321: UserWarning: Y residual constant at iteration 1\n",
            "  warnings.warn('Y residual constant at iteration %s' % k)\n",
            "/usr/local/lib/python3.6/dist-packages/sklearn/cross_decomposition/_pls.py:321: UserWarning: Y residual constant at iteration 1\n",
            "  warnings.warn('Y residual constant at iteration %s' % k)\n",
            "/usr/local/lib/python3.6/dist-packages/sklearn/cross_decomposition/_pls.py:321: UserWarning: Y residual constant at iteration 1\n",
            "  warnings.warn('Y residual constant at iteration %s' % k)\n"
          ],
          "name": "stderr"
        },
        {
          "output_type": "stream",
          "text": [
            "R² treino: 0.04913529782756065\n",
            "R² validação: 0.02 +- 0.03\n",
            "R² teste: 0.01637451302209736\n",
            "----------------------------------------------------------------------\n",
            "Treinando o modelo ExtraTreeRegressor\n",
            "R² treino: 0.5122363073776075\n",
            "R² validação: -0.43 +- 0.26\n",
            "R² teste: -0.07704635694018291\n",
            "----------------------------------------------------------------------\n",
            "Treinando o modelo ExtraTreesRegressor\n",
            "R² treino: 0.5122363073776075\n",
            "R² validação: -0.35 +- 0.23\n",
            "R² teste: 0.040247565327446444\n",
            "----------------------------------------------------------------------\n",
            "Treinando o modelo GaussianProcessRegressor\n",
            "R² treino: 0.2585732312362814\n",
            "R² validação: -18733.62 +- 34347.86\n",
            "R² teste: -286.2491387863656\n",
            "----------------------------------------------------------------------\n",
            "Treinando o modelo GradientBoostingRegressor\n",
            "R² treino: 0.31399877055840075\n",
            "R² validação: -0.02 +- 0.09\n",
            "R² teste: 0.15053896343499185\n",
            "----------------------------------------------------------------------\n",
            "Treinando o modelo HistGradientBoostingRegressor\n",
            "R² treino: 0.30651426269665627\n",
            "R² validação: 0.01 +- 0.06\n",
            "R² teste: 0.15275527134718958\n",
            "----------------------------------------------------------------------\n",
            "Treinando o modelo HuberRegressor\n",
            "R² treino: -0.1487655867847144\n",
            "R² validação: -0.15 +- 0.05\n",
            "R² teste: -0.1612212116962728\n",
            "----------------------------------------------------------------------\n",
            "Treinando o modelo KNeighborsRegressor\n",
            "R² treino: 0.27042583142122545\n",
            "R² validação: -0.02 +- 0.11\n",
            "R² teste: 0.11538007828409234\n",
            "----------------------------------------------------------------------\n",
            "Treinando o modelo KernelRidge\n",
            "R² treino: 0.03189707037437339\n",
            "R² validação: -0.00 +- 0.04\n",
            "R² teste: -0.008094189148345698\n",
            "----------------------------------------------------------------------\n",
            "Treinando o modelo Lars\n",
            "R² treino: 0.049474814722409444\n",
            "R² validação: 0.02 +- 0.03\n",
            "R² teste: 0.013412734625037892\n",
            "----------------------------------------------------------------------\n",
            "Treinando o modelo LarsCV\n",
            "R² treino: 0.049474814722409444\n",
            "R² validação: 0.01 +- 0.03\n",
            "R² teste: 0.013412734625037892\n",
            "----------------------------------------------------------------------\n",
            "Treinando o modelo Lasso\n",
            "R² treino: 0.0\n",
            "R² validação: -0.01 +- 0.01\n",
            "R² teste: -6.654056328159186e-08\n",
            "----------------------------------------------------------------------\n",
            "Treinando o modelo LassoCV\n",
            "R² treino: 0.049391701342441086\n",
            "R² validação: 0.02 +- 0.03\n",
            "R² teste: 0.014774816921109933\n",
            "----------------------------------------------------------------------\n",
            "Treinando o modelo LassoLars\n",
            "R² treino: 0.0\n",
            "R² validação: -0.01 +- 0.01\n",
            "R² teste: -6.654056328159186e-08\n",
            "----------------------------------------------------------------------\n",
            "Treinando o modelo LassoLarsCV\n",
            "R² treino: 0.049474814722409444\n",
            "R² validação: 0.01 +- 0.03\n",
            "R² teste: 0.013412734625037892\n",
            "----------------------------------------------------------------------\n",
            "Treinando o modelo LassoLarsIC\n",
            "R² treino: 0.049474814722409444\n",
            "R² validação: 0.02 +- 0.03\n",
            "R² teste: 0.013412734625037892\n",
            "----------------------------------------------------------------------\n",
            "Treinando o modelo LinearRegression\n",
            "R² treino: 0.04942763830992358\n",
            "R² validação: 0.02 +- 0.03\n",
            "R² teste: 0.012382909039824086\n",
            "----------------------------------------------------------------------\n",
            "Treinando o modelo LinearSVR\n",
            "R² treino: -0.1616720046203597\n",
            "R² validação: -0.17 +- 0.05\n",
            "R² teste: -0.1735540375340454\n",
            "----------------------------------------------------------------------\n",
            "Treinando o modelo MLPRegressor\n"
          ],
          "name": "stdout"
        },
        {
          "output_type": "stream",
          "text": [
            "/usr/local/lib/python3.6/dist-packages/sklearn/svm/_base.py:947: ConvergenceWarning: Liblinear failed to converge, increase the number of iterations.\n",
            "  \"the number of iterations.\", ConvergenceWarning)\n",
            "/usr/local/lib/python3.6/dist-packages/sklearn/svm/_base.py:947: ConvergenceWarning: Liblinear failed to converge, increase the number of iterations.\n",
            "  \"the number of iterations.\", ConvergenceWarning)\n",
            "/usr/local/lib/python3.6/dist-packages/sklearn/svm/_base.py:947: ConvergenceWarning: Liblinear failed to converge, increase the number of iterations.\n",
            "  \"the number of iterations.\", ConvergenceWarning)\n",
            "/usr/local/lib/python3.6/dist-packages/sklearn/svm/_base.py:947: ConvergenceWarning: Liblinear failed to converge, increase the number of iterations.\n",
            "  \"the number of iterations.\", ConvergenceWarning)\n",
            "/usr/local/lib/python3.6/dist-packages/sklearn/svm/_base.py:947: ConvergenceWarning: Liblinear failed to converge, increase the number of iterations.\n",
            "  \"the number of iterations.\", ConvergenceWarning)\n",
            "/usr/local/lib/python3.6/dist-packages/sklearn/svm/_base.py:947: ConvergenceWarning: Liblinear failed to converge, increase the number of iterations.\n",
            "  \"the number of iterations.\", ConvergenceWarning)\n",
            "/usr/local/lib/python3.6/dist-packages/sklearn/neural_network/_multilayer_perceptron.py:571: ConvergenceWarning: Stochastic Optimizer: Maximum iterations (200) reached and the optimization hasn't converged yet.\n",
            "  % self.max_iter, ConvergenceWarning)\n",
            "/usr/local/lib/python3.6/dist-packages/sklearn/neural_network/_multilayer_perceptron.py:571: ConvergenceWarning: Stochastic Optimizer: Maximum iterations (200) reached and the optimization hasn't converged yet.\n",
            "  % self.max_iter, ConvergenceWarning)\n",
            "/usr/local/lib/python3.6/dist-packages/sklearn/neural_network/_multilayer_perceptron.py:571: ConvergenceWarning: Stochastic Optimizer: Maximum iterations (200) reached and the optimization hasn't converged yet.\n",
            "  % self.max_iter, ConvergenceWarning)\n",
            "/usr/local/lib/python3.6/dist-packages/sklearn/neural_network/_multilayer_perceptron.py:571: ConvergenceWarning: Stochastic Optimizer: Maximum iterations (200) reached and the optimization hasn't converged yet.\n",
            "  % self.max_iter, ConvergenceWarning)\n",
            "/usr/local/lib/python3.6/dist-packages/sklearn/neural_network/_multilayer_perceptron.py:571: ConvergenceWarning: Stochastic Optimizer: Maximum iterations (200) reached and the optimization hasn't converged yet.\n",
            "  % self.max_iter, ConvergenceWarning)\n",
            "/usr/local/lib/python3.6/dist-packages/sklearn/neural_network/_multilayer_perceptron.py:571: ConvergenceWarning: Stochastic Optimizer: Maximum iterations (200) reached and the optimization hasn't converged yet.\n",
            "  % self.max_iter, ConvergenceWarning)\n"
          ],
          "name": "stderr"
        },
        {
          "output_type": "stream",
          "text": [
            "R² treino: 0.09893376857642011\n",
            "R² validação: 0.03 +- 0.05\n",
            "R² teste: 0.055855267491657035\n",
            "----------------------------------------------------------------------\n",
            "Treinando o modelo NuSVR\n",
            "R² treino: -0.07839961673318441\n",
            "R² validação: -0.09 +- 0.04\n",
            "R² teste: -0.08836170672975441\n",
            "----------------------------------------------------------------------\n",
            "Treinando o modelo OrthogonalMatchingPursuit\n",
            "R² treino: 0.03198500919470226\n",
            "R² validação: 0.02 +- 0.02\n",
            "R² teste: 0.009818497146758864\n",
            "----------------------------------------------------------------------\n",
            "Treinando o modelo OrthogonalMatchingPursuitCV\n",
            "R² treino: 0.04770167140320003\n",
            "R² validação: 0.01 +- 0.03\n",
            "R² teste: 0.01682990050748745\n",
            "----------------------------------------------------------------------\n",
            "Treinando o modelo PLSCanonical\n",
            "R² treino: -0.8959468515240194\n",
            "R² validação: -1.10 +- 0.68\n",
            "R² teste: -0.9167296764972055\n",
            "----------------------------------------------------------------------\n",
            "Treinando o modelo PLSRegression\n",
            "R² treino: 0.04769079175207391\n",
            "R² validação: 0.01 +- 0.04\n",
            "R² teste: 0.014907340401979274\n",
            "----------------------------------------------------------------------\n",
            "Treinando o modelo PassiveAggressiveRegressor\n",
            "R² treino: -0.6805258454625533\n",
            "R² validação: -0.85 +- 0.81\n",
            "R² teste: -0.82656033787724\n",
            "----------------------------------------------------------------------\n",
            "Treinando o modelo RANSACRegressor\n"
          ],
          "name": "stdout"
        },
        {
          "output_type": "stream",
          "text": [
            "/usr/local/lib/python3.6/dist-packages/sklearn/cross_decomposition/_pls.py:321: UserWarning: Y residual constant at iteration 1\n",
            "  warnings.warn('Y residual constant at iteration %s' % k)\n",
            "/usr/local/lib/python3.6/dist-packages/sklearn/cross_decomposition/_pls.py:321: UserWarning: Y residual constant at iteration 1\n",
            "  warnings.warn('Y residual constant at iteration %s' % k)\n",
            "/usr/local/lib/python3.6/dist-packages/sklearn/cross_decomposition/_pls.py:321: UserWarning: Y residual constant at iteration 1\n",
            "  warnings.warn('Y residual constant at iteration %s' % k)\n",
            "/usr/local/lib/python3.6/dist-packages/sklearn/cross_decomposition/_pls.py:321: UserWarning: Y residual constant at iteration 1\n",
            "  warnings.warn('Y residual constant at iteration %s' % k)\n",
            "/usr/local/lib/python3.6/dist-packages/sklearn/cross_decomposition/_pls.py:321: UserWarning: Y residual constant at iteration 1\n",
            "  warnings.warn('Y residual constant at iteration %s' % k)\n",
            "/usr/local/lib/python3.6/dist-packages/sklearn/cross_decomposition/_pls.py:321: UserWarning: Y residual constant at iteration 1\n",
            "  warnings.warn('Y residual constant at iteration %s' % k)\n"
          ],
          "name": "stderr"
        },
        {
          "output_type": "stream",
          "text": [
            "R² treino: -0.21486937364747472\n",
            "R² validação: -0.22 +- 0.07\n",
            "R² teste: -0.2021819243508358\n",
            "----------------------------------------------------------------------\n",
            "Treinando o modelo RandomForestRegressor\n",
            "R² treino: 0.47450544453722177\n",
            "R² validação: -0.18 +- 0.17\n",
            "R² teste: 0.10067571748288763\n",
            "----------------------------------------------------------------------\n",
            "Treinando o modelo Ridge\n",
            "R² treino: 0.04944626631224058\n",
            "R² validação: 0.02 +- 0.03\n",
            "R² teste: 0.014377756648527916\n",
            "----------------------------------------------------------------------\n",
            "Treinando o modelo RidgeCV\n",
            "R² treino: 0.04944626631224058\n",
            "R² validação: 0.02 +- 0.03\n",
            "R² teste: 0.01437775664853236\n",
            "----------------------------------------------------------------------\n",
            "Treinando o modelo SGDRegressor\n",
            "R² treino: 0.02429826738959251\n",
            "R² validação: -0.02 +- 0.04\n",
            "R² teste: -0.017193811350596278\n",
            "----------------------------------------------------------------------\n",
            "Treinando o modelo SVR\n",
            "R² treino: -0.09404811596340656\n",
            "R² validação: -0.10 +- 0.05\n",
            "R² teste: -0.10290984958936789\n",
            "----------------------------------------------------------------------\n",
            "Treinando o modelo TheilSenRegressor\n",
            "R² treino: -0.14805314179637197\n",
            "R² validação: -0.15 +- 0.05\n",
            "R² teste: -0.1655834601587789\n",
            "----------------------------------------------------------------------\n",
            "Treinando o modelo TransformedTargetRegressor\n",
            "R² treino: 0.04942763830992358\n",
            "R² validação: 0.02 +- 0.03\n",
            "R² teste: 0.012382909039824086\n",
            "----------------------------------------------------------------------\n"
          ],
          "name": "stdout"
        }
      ]
    },
    {
      "cell_type": "code",
      "metadata": {
        "id": "YYMAOGBR6LQO",
        "outputId": "649bd1b9-1819-4f17-fcf1-872ca6c67226",
        "colab": {
          "base_uri": "https://localhost:8080/",
          "height": 142
        }
      },
      "source": [
        "relatorio = pd.DataFrame(relatorio).sort_values(by='cv_scores_mean', ascending=False)\n",
        "relatorio.head(3)"
      ],
      "execution_count": 12,
      "outputs": [
        {
          "output_type": "execute_result",
          "data": {
            "text/html": [
              "<div>\n",
              "<style scoped>\n",
              "    .dataframe tbody tr th:only-of-type {\n",
              "        vertical-align: middle;\n",
              "    }\n",
              "\n",
              "    .dataframe tbody tr th {\n",
              "        vertical-align: top;\n",
              "    }\n",
              "\n",
              "    .dataframe thead th {\n",
              "        text-align: right;\n",
              "    }\n",
              "</style>\n",
              "<table border=\"1\" class=\"dataframe\">\n",
              "  <thead>\n",
              "    <tr style=\"text-align: right;\">\n",
              "      <th></th>\n",
              "      <th>nome</th>\n",
              "      <th>train_score</th>\n",
              "      <th>cv_scores_mean</th>\n",
              "      <th>test_score</th>\n",
              "      <th>estimador</th>\n",
              "    </tr>\n",
              "  </thead>\n",
              "  <tbody>\n",
              "    <tr>\n",
              "      <th>25</th>\n",
              "      <td>MLPRegressor</td>\n",
              "      <td>0.098934</td>\n",
              "      <td>0.032778</td>\n",
              "      <td>0.055855</td>\n",
              "      <td>MLPRegressor(activation='relu', alpha=0.0001, ...</td>\n",
              "    </tr>\n",
              "    <tr>\n",
              "      <th>39</th>\n",
              "      <td>TransformedTargetRegressor</td>\n",
              "      <td>0.049428</td>\n",
              "      <td>0.019696</td>\n",
              "      <td>0.012383</td>\n",
              "      <td>TransformedTargetRegressor(check_inverse=True,...</td>\n",
              "    </tr>\n",
              "    <tr>\n",
              "      <th>23</th>\n",
              "      <td>LinearRegression</td>\n",
              "      <td>0.049428</td>\n",
              "      <td>0.019696</td>\n",
              "      <td>0.012383</td>\n",
              "      <td>LinearRegression(copy_X=True, fit_intercept=Tr...</td>\n",
              "    </tr>\n",
              "  </tbody>\n",
              "</table>\n",
              "</div>"
            ],
            "text/plain": [
              "                          nome  ...                                          estimador\n",
              "25                MLPRegressor  ...  MLPRegressor(activation='relu', alpha=0.0001, ...\n",
              "39  TransformedTargetRegressor  ...  TransformedTargetRegressor(check_inverse=True,...\n",
              "23            LinearRegression  ...  LinearRegression(copy_X=True, fit_intercept=Tr...\n",
              "\n",
              "[3 rows x 5 columns]"
            ]
          },
          "metadata": {
            "tags": []
          },
          "execution_count": 12
        }
      ]
    },
    {
      "cell_type": "markdown",
      "metadata": {
        "id": "7QvV1RKd6U4c"
      },
      "source": [
        "\n",
        "Combinando os melhores estimadores usando stacking"
      ]
    },
    {
      "cell_type": "code",
      "metadata": {
        "id": "4Jf1k1aU6UmD",
        "outputId": "f1cae2af-e7e0-4a5b-a8a1-3213108e0c5d",
        "colab": {
          "base_uri": "https://localhost:8080/"
        }
      },
      "source": [
        "from sklearn.ensemble import StackingRegressor\n",
        "\n",
        "top_3_regs = relatorio[['nome', 'estimador']].values[:3]\n",
        "\n",
        "reg = StackingRegressor(\n",
        "    estimators = top_3_regs\n",
        ")\n",
        "\n",
        "reg.fit(X_train, y_train)\n",
        "\n",
        "train_score = reg.score(X_train, y_train)\n",
        "cv_scores = cross_val_score(reg, X_train, y_train)\n",
        "test_score = reg.score(X_test, y_test)\n",
        "\n",
        "print(f\"R² treino: {train_score}\")\n",
        "print(f\"R² validação: {np.mean(cv_scores):.2f} +- {np.std(cv_scores):.2f}\")\n",
        "print(f\"R² teste: {test_score}\")\n",
        "print('-'*70)"
      ],
      "execution_count": 13,
      "outputs": [
        {
          "output_type": "stream",
          "text": [
            "/usr/local/lib/python3.6/dist-packages/sklearn/neural_network/_multilayer_perceptron.py:571: ConvergenceWarning: Stochastic Optimizer: Maximum iterations (200) reached and the optimization hasn't converged yet.\n",
            "  % self.max_iter, ConvergenceWarning)\n",
            "/usr/local/lib/python3.6/dist-packages/sklearn/neural_network/_multilayer_perceptron.py:571: ConvergenceWarning: Stochastic Optimizer: Maximum iterations (200) reached and the optimization hasn't converged yet.\n",
            "  % self.max_iter, ConvergenceWarning)\n",
            "/usr/local/lib/python3.6/dist-packages/sklearn/neural_network/_multilayer_perceptron.py:571: ConvergenceWarning: Stochastic Optimizer: Maximum iterations (200) reached and the optimization hasn't converged yet.\n",
            "  % self.max_iter, ConvergenceWarning)\n",
            "/usr/local/lib/python3.6/dist-packages/sklearn/neural_network/_multilayer_perceptron.py:571: ConvergenceWarning: Stochastic Optimizer: Maximum iterations (200) reached and the optimization hasn't converged yet.\n",
            "  % self.max_iter, ConvergenceWarning)\n",
            "/usr/local/lib/python3.6/dist-packages/sklearn/neural_network/_multilayer_perceptron.py:571: ConvergenceWarning: Stochastic Optimizer: Maximum iterations (200) reached and the optimization hasn't converged yet.\n",
            "  % self.max_iter, ConvergenceWarning)\n",
            "/usr/local/lib/python3.6/dist-packages/sklearn/neural_network/_multilayer_perceptron.py:571: ConvergenceWarning: Stochastic Optimizer: Maximum iterations (200) reached and the optimization hasn't converged yet.\n",
            "  % self.max_iter, ConvergenceWarning)\n",
            "/usr/local/lib/python3.6/dist-packages/sklearn/neural_network/_multilayer_perceptron.py:571: ConvergenceWarning: Stochastic Optimizer: Maximum iterations (200) reached and the optimization hasn't converged yet.\n",
            "  % self.max_iter, ConvergenceWarning)\n",
            "/usr/local/lib/python3.6/dist-packages/sklearn/neural_network/_multilayer_perceptron.py:571: ConvergenceWarning: Stochastic Optimizer: Maximum iterations (200) reached and the optimization hasn't converged yet.\n",
            "  % self.max_iter, ConvergenceWarning)\n",
            "/usr/local/lib/python3.6/dist-packages/sklearn/neural_network/_multilayer_perceptron.py:571: ConvergenceWarning: Stochastic Optimizer: Maximum iterations (200) reached and the optimization hasn't converged yet.\n",
            "  % self.max_iter, ConvergenceWarning)\n",
            "/usr/local/lib/python3.6/dist-packages/sklearn/neural_network/_multilayer_perceptron.py:571: ConvergenceWarning: Stochastic Optimizer: Maximum iterations (200) reached and the optimization hasn't converged yet.\n",
            "  % self.max_iter, ConvergenceWarning)\n",
            "/usr/local/lib/python3.6/dist-packages/sklearn/neural_network/_multilayer_perceptron.py:571: ConvergenceWarning: Stochastic Optimizer: Maximum iterations (200) reached and the optimization hasn't converged yet.\n",
            "  % self.max_iter, ConvergenceWarning)\n",
            "/usr/local/lib/python3.6/dist-packages/sklearn/neural_network/_multilayer_perceptron.py:571: ConvergenceWarning: Stochastic Optimizer: Maximum iterations (200) reached and the optimization hasn't converged yet.\n",
            "  % self.max_iter, ConvergenceWarning)\n",
            "/usr/local/lib/python3.6/dist-packages/sklearn/neural_network/_multilayer_perceptron.py:571: ConvergenceWarning: Stochastic Optimizer: Maximum iterations (200) reached and the optimization hasn't converged yet.\n",
            "  % self.max_iter, ConvergenceWarning)\n",
            "/usr/local/lib/python3.6/dist-packages/sklearn/neural_network/_multilayer_perceptron.py:571: ConvergenceWarning: Stochastic Optimizer: Maximum iterations (200) reached and the optimization hasn't converged yet.\n",
            "  % self.max_iter, ConvergenceWarning)\n",
            "/usr/local/lib/python3.6/dist-packages/sklearn/neural_network/_multilayer_perceptron.py:571: ConvergenceWarning: Stochastic Optimizer: Maximum iterations (200) reached and the optimization hasn't converged yet.\n",
            "  % self.max_iter, ConvergenceWarning)\n",
            "/usr/local/lib/python3.6/dist-packages/sklearn/neural_network/_multilayer_perceptron.py:571: ConvergenceWarning: Stochastic Optimizer: Maximum iterations (200) reached and the optimization hasn't converged yet.\n",
            "  % self.max_iter, ConvergenceWarning)\n",
            "/usr/local/lib/python3.6/dist-packages/sklearn/neural_network/_multilayer_perceptron.py:571: ConvergenceWarning: Stochastic Optimizer: Maximum iterations (200) reached and the optimization hasn't converged yet.\n",
            "  % self.max_iter, ConvergenceWarning)\n",
            "/usr/local/lib/python3.6/dist-packages/sklearn/neural_network/_multilayer_perceptron.py:571: ConvergenceWarning: Stochastic Optimizer: Maximum iterations (200) reached and the optimization hasn't converged yet.\n",
            "  % self.max_iter, ConvergenceWarning)\n",
            "/usr/local/lib/python3.6/dist-packages/sklearn/neural_network/_multilayer_perceptron.py:571: ConvergenceWarning: Stochastic Optimizer: Maximum iterations (200) reached and the optimization hasn't converged yet.\n",
            "  % self.max_iter, ConvergenceWarning)\n",
            "/usr/local/lib/python3.6/dist-packages/sklearn/neural_network/_multilayer_perceptron.py:571: ConvergenceWarning: Stochastic Optimizer: Maximum iterations (200) reached and the optimization hasn't converged yet.\n",
            "  % self.max_iter, ConvergenceWarning)\n",
            "/usr/local/lib/python3.6/dist-packages/sklearn/neural_network/_multilayer_perceptron.py:571: ConvergenceWarning: Stochastic Optimizer: Maximum iterations (200) reached and the optimization hasn't converged yet.\n",
            "  % self.max_iter, ConvergenceWarning)\n",
            "/usr/local/lib/python3.6/dist-packages/sklearn/neural_network/_multilayer_perceptron.py:571: ConvergenceWarning: Stochastic Optimizer: Maximum iterations (200) reached and the optimization hasn't converged yet.\n",
            "  % self.max_iter, ConvergenceWarning)\n",
            "/usr/local/lib/python3.6/dist-packages/sklearn/neural_network/_multilayer_perceptron.py:571: ConvergenceWarning: Stochastic Optimizer: Maximum iterations (200) reached and the optimization hasn't converged yet.\n",
            "  % self.max_iter, ConvergenceWarning)\n",
            "/usr/local/lib/python3.6/dist-packages/sklearn/neural_network/_multilayer_perceptron.py:571: ConvergenceWarning: Stochastic Optimizer: Maximum iterations (200) reached and the optimization hasn't converged yet.\n",
            "  % self.max_iter, ConvergenceWarning)\n",
            "/usr/local/lib/python3.6/dist-packages/sklearn/neural_network/_multilayer_perceptron.py:571: ConvergenceWarning: Stochastic Optimizer: Maximum iterations (200) reached and the optimization hasn't converged yet.\n",
            "  % self.max_iter, ConvergenceWarning)\n",
            "/usr/local/lib/python3.6/dist-packages/sklearn/neural_network/_multilayer_perceptron.py:571: ConvergenceWarning: Stochastic Optimizer: Maximum iterations (200) reached and the optimization hasn't converged yet.\n",
            "  % self.max_iter, ConvergenceWarning)\n",
            "/usr/local/lib/python3.6/dist-packages/sklearn/neural_network/_multilayer_perceptron.py:571: ConvergenceWarning: Stochastic Optimizer: Maximum iterations (200) reached and the optimization hasn't converged yet.\n",
            "  % self.max_iter, ConvergenceWarning)\n",
            "/usr/local/lib/python3.6/dist-packages/sklearn/neural_network/_multilayer_perceptron.py:571: ConvergenceWarning: Stochastic Optimizer: Maximum iterations (200) reached and the optimization hasn't converged yet.\n",
            "  % self.max_iter, ConvergenceWarning)\n",
            "/usr/local/lib/python3.6/dist-packages/sklearn/neural_network/_multilayer_perceptron.py:571: ConvergenceWarning: Stochastic Optimizer: Maximum iterations (200) reached and the optimization hasn't converged yet.\n",
            "  % self.max_iter, ConvergenceWarning)\n",
            "/usr/local/lib/python3.6/dist-packages/sklearn/neural_network/_multilayer_perceptron.py:571: ConvergenceWarning: Stochastic Optimizer: Maximum iterations (200) reached and the optimization hasn't converged yet.\n",
            "  % self.max_iter, ConvergenceWarning)\n",
            "/usr/local/lib/python3.6/dist-packages/sklearn/neural_network/_multilayer_perceptron.py:571: ConvergenceWarning: Stochastic Optimizer: Maximum iterations (200) reached and the optimization hasn't converged yet.\n",
            "  % self.max_iter, ConvergenceWarning)\n",
            "/usr/local/lib/python3.6/dist-packages/sklearn/neural_network/_multilayer_perceptron.py:571: ConvergenceWarning: Stochastic Optimizer: Maximum iterations (200) reached and the optimization hasn't converged yet.\n",
            "  % self.max_iter, ConvergenceWarning)\n",
            "/usr/local/lib/python3.6/dist-packages/sklearn/neural_network/_multilayer_perceptron.py:571: ConvergenceWarning: Stochastic Optimizer: Maximum iterations (200) reached and the optimization hasn't converged yet.\n",
            "  % self.max_iter, ConvergenceWarning)\n",
            "/usr/local/lib/python3.6/dist-packages/sklearn/neural_network/_multilayer_perceptron.py:571: ConvergenceWarning: Stochastic Optimizer: Maximum iterations (200) reached and the optimization hasn't converged yet.\n",
            "  % self.max_iter, ConvergenceWarning)\n",
            "/usr/local/lib/python3.6/dist-packages/sklearn/neural_network/_multilayer_perceptron.py:571: ConvergenceWarning: Stochastic Optimizer: Maximum iterations (200) reached and the optimization hasn't converged yet.\n",
            "  % self.max_iter, ConvergenceWarning)\n"
          ],
          "name": "stderr"
        },
        {
          "output_type": "stream",
          "text": [
            "R² treino: 0.07388732915430785\n",
            "R² validação: 0.03 +- 0.02\n",
            "R² teste: 0.03662241380778575\n",
            "----------------------------------------------------------------------\n"
          ],
          "name": "stdout"
        },
        {
          "output_type": "stream",
          "text": [
            "/usr/local/lib/python3.6/dist-packages/sklearn/neural_network/_multilayer_perceptron.py:571: ConvergenceWarning: Stochastic Optimizer: Maximum iterations (200) reached and the optimization hasn't converged yet.\n",
            "  % self.max_iter, ConvergenceWarning)\n"
          ],
          "name": "stderr"
        }
      ]
    },
    {
      "cell_type": "code",
      "metadata": {
        "id": "3SrEnzSD6Z6H",
        "outputId": "1f69ee24-f574-477f-b27d-32e8b5d39667",
        "colab": {
          "base_uri": "https://localhost:8080/"
        }
      },
      "source": [
        "reg"
      ],
      "execution_count": 14,
      "outputs": [
        {
          "output_type": "execute_result",
          "data": {
            "text/plain": [
              "StackingRegressor(cv=None,\n",
              "                  estimators=array([['MLPRegressor',\n",
              "        MLPRegressor(activation='relu', alpha=0.0001, batch_size='auto', beta_1=0.9,\n",
              "             beta_2=0.999, early_stopping=False, epsilon=1e-08,\n",
              "             hidden_layer_sizes=(100,), learning_rate='constant',\n",
              "             learning_rate_init=0.001, max_fun=15000, max_iter=200,\n",
              "             momentum=0.9, n_iter_no_change=10, nesterovs_momentum=True,\n",
              "             power_t=0...\n",
              "             tol=0.0001, validation_fraction=0.1, verbose=False,\n",
              "             warm_start=False)],\n",
              "       ['TransformedTargetRegressor',\n",
              "        TransformedTargetRegressor(check_inverse=True, func=None, inverse_func=None,\n",
              "                           regressor=None, transformer=None)],\n",
              "       ['LinearRegression',\n",
              "        LinearRegression(copy_X=True, fit_intercept=True, n_jobs=None, normalize=False)]],\n",
              "      dtype=object),\n",
              "                  final_estimator=None, n_jobs=None, passthrough=False,\n",
              "                  verbose=0)"
            ]
          },
          "metadata": {
            "tags": []
          },
          "execution_count": 14
        }
      ]
    },
    {
      "cell_type": "markdown",
      "metadata": {
        "id": "H5ST3Ucw6eKG"
      },
      "source": [
        "Salvando o modelo"
      ]
    },
    {
      "cell_type": "code",
      "metadata": {
        "id": "x1Uv369j6cKM"
      },
      "source": [
        "import pickle\n",
        "\n",
        "pickle.dump(reg, open('modelo.pkl', 'wb'), protocol=4)"
      ],
      "execution_count": 15,
      "outputs": []
    },
    {
      "cell_type": "code",
      "metadata": {
        "id": "AHlzFM7d6g-d"
      },
      "source": [
        "# resetando o notebook para garantir que estamos carregando o modelo salvo\n",
        "%reset -f"
      ],
      "execution_count": 16,
      "outputs": []
    },
    {
      "cell_type": "code",
      "metadata": {
        "id": "f8WUsWVn6kIe"
      },
      "source": [
        "import pickle\n",
        "\n",
        "reg = pickle.load(open('modelo.pkl', 'rb'))"
      ],
      "execution_count": 17,
      "outputs": []
    },
    {
      "cell_type": "code",
      "metadata": {
        "id": "mBGA6Oz66mPf",
        "outputId": "d77e2cb5-d8b9-4c7c-f990-be5811eec403",
        "colab": {
          "base_uri": "https://localhost:8080/"
        }
      },
      "source": [
        "reg"
      ],
      "execution_count": 18,
      "outputs": [
        {
          "output_type": "execute_result",
          "data": {
            "text/plain": [
              "StackingRegressor(cv=None,\n",
              "                  estimators=array([['MLPRegressor',\n",
              "        MLPRegressor(activation='relu', alpha=0.0001, batch_size='auto', beta_1=0.9,\n",
              "             beta_2=0.999, early_stopping=False, epsilon=1e-08,\n",
              "             hidden_layer_sizes=(100,), learning_rate='constant',\n",
              "             learning_rate_init=0.001, max_fun=15000, max_iter=200,\n",
              "             momentum=0.9, n_iter_no_change=10, nesterovs_momentum=True,\n",
              "             power_t=0...\n",
              "             tol=0.0001, validation_fraction=0.1, verbose=False,\n",
              "             warm_start=False)],\n",
              "       ['TransformedTargetRegressor',\n",
              "        TransformedTargetRegressor(check_inverse=True, func=None, inverse_func=None,\n",
              "                           regressor=None, transformer=None)],\n",
              "       ['LinearRegression',\n",
              "        LinearRegression(copy_X=True, fit_intercept=True, n_jobs=None, normalize=False)]],\n",
              "      dtype=object),\n",
              "                  final_estimator=None, n_jobs=None, passthrough=False,\n",
              "                  verbose=0)"
            ]
          },
          "metadata": {
            "tags": []
          },
          "execution_count": 18
        }
      ]
    },
    {
      "cell_type": "code",
      "metadata": {
        "id": "dehosmEx6n3j",
        "outputId": "b649b50d-17b4-459d-c60e-d3d7af5051b3",
        "colab": {
          "base_uri": "https://localhost:8080/"
        }
      },
      "source": [
        "import numpy as np\n",
        "\n",
        "dados_novos = [0, 0, 0, 1, np.log1p(2), np.log1p(120)]\n",
        "\n",
        "np.expm1(reg.predict([dados_novos]))"
      ],
      "execution_count": 19,
      "outputs": [
        {
          "output_type": "execute_result",
          "data": {
            "text/plain": [
              "array([3861.01518221])"
            ]
          },
          "metadata": {
            "tags": []
          },
          "execution_count": 19
        }
      ]
    }
  ]
}