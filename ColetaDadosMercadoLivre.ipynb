{
  "nbformat": 4,
  "nbformat_minor": 0,
  "metadata": {
    "colab": {
      "name": "ColetaDadosMercadoLivre.ipynb",
      "provenance": [],
      "authorship_tag": "ABX9TyNKI6uVUt4y3hUL4ms2MCvm",
      "include_colab_link": true
    },
    "kernelspec": {
      "name": "python3",
      "display_name": "Python 3"
    }
  },
  "cells": [
    {
      "cell_type": "markdown",
      "metadata": {
        "id": "view-in-github",
        "colab_type": "text"
      },
      "source": [
        "<a href=\"https://colab.research.google.com/github/JoaoDaross/CursoAwari/blob/main/ColetaDadosMercadoLivre.ipynb\" target=\"_parent\"><img src=\"https://colab.research.google.com/assets/colab-badge.svg\" alt=\"Open In Colab\"/></a>"
      ]
    },
    {
      "cell_type": "markdown",
      "metadata": {
        "id": "SjEEHyQkpAuW"
      },
      "source": [
        "# Coletando dados de zonas e páginas do mercado livre e salvando em um dataframe"
      ]
    },
    {
      "cell_type": "code",
      "metadata": {
        "id": "yNn-EoIBoxp5"
      },
      "source": [
        "import requests\n",
        "from bs4 import BeautifulSoup\n",
        "import re\n",
        "import numpy as np\n",
        "import pandas as pd\n",
        "from time import sleep"
      ],
      "execution_count": 1,
      "outputs": []
    },
    {
      "cell_type": "code",
      "metadata": {
        "id": "NZtvYxi-pGJL"
      },
      "source": [
        "zonas = ['sul', 'norte', 'leste', 'oeste']\n",
        "paginas = ['', '_Desde_49', '_Desde_97', '_Desde_145', '_Desde_193', '_Desde_241']"
      ],
      "execution_count": 2,
      "outputs": []
    },
    {
      "cell_type": "code",
      "metadata": {
        "id": "DxBOHIMgpJZ_"
      },
      "source": [
        "url_ml = 'https://imoveis.mercadolivre.com.br/casas/aluguel/sao-paulo/sao-paulo-zona-{}/{}'"
      ],
      "execution_count": 3,
      "outputs": []
    },
    {
      "cell_type": "code",
      "metadata": {
        "id": "W2tuFD0IpLQp"
      },
      "source": [
        "def funcao_zona(zona):\n",
        "    lista_zonas = []\n",
        "    lista_zonas.append(zona)"
      ],
      "execution_count": 4,
      "outputs": []
    },
    {
      "cell_type": "code",
      "metadata": {
        "id": "kWyQRkuGpM_I",
        "outputId": "a511c588-7c94-4338-f168-67b68ee82e52",
        "colab": {
          "base_uri": "https://localhost:8080/"
        }
      },
      "source": [
        "for zona in zonas:\n",
        "    for pagina in paginas:\n",
        "        funcao_zona(zona)\n",
        "        print(pagina, zona)"
      ],
      "execution_count": 5,
      "outputs": [
        {
          "output_type": "stream",
          "text": [
            " sul\n",
            "_Desde_49 sul\n",
            "_Desde_97 sul\n",
            "_Desde_145 sul\n",
            "_Desde_193 sul\n",
            "_Desde_241 sul\n",
            " norte\n",
            "_Desde_49 norte\n",
            "_Desde_97 norte\n",
            "_Desde_145 norte\n",
            "_Desde_193 norte\n",
            "_Desde_241 norte\n",
            " leste\n",
            "_Desde_49 leste\n",
            "_Desde_97 leste\n",
            "_Desde_145 leste\n",
            "_Desde_193 leste\n",
            "_Desde_241 leste\n",
            " oeste\n",
            "_Desde_49 oeste\n",
            "_Desde_97 oeste\n",
            "_Desde_145 oeste\n",
            "_Desde_193 oeste\n",
            "_Desde_241 oeste\n"
          ],
          "name": "stdout"
        }
      ]
    },
    {
      "cell_type": "code",
      "metadata": {
        "id": "xMD_R_mkpO8D"
      },
      "source": [
        "re_quarto ='\\| (.*) quarto'\n",
        "re_area = '> (.*) m²'"
      ],
      "execution_count": 6,
      "outputs": []
    },
    {
      "cell_type": "code",
      "metadata": {
        "id": "iN8UdTWmpR5u"
      },
      "source": [
        "def coleta_dados(url, zona):\n",
        "  conteudo = requests.get(url).content\n",
        "  sopa = BeautifulSoup(conteudo)\n",
        "\n",
        "  lista_precos = []\n",
        "  lista_areas_quartos = []\n",
        "  lista_quartos = []\n",
        "  lista_dimensoes = []\n",
        "  lista_zonas = []\n",
        "\n",
        "  re_quartos = '(.) quarto|quartos'\n",
        "  re_dimensoes = '(.*) m²'\n",
        "\n",
        "  precos = sopa.find_all('span', class_='price-tag-fraction')\n",
        "  dimensoes_e_quartos = sopa.find_all('ul', class_='ui-search-card-attributes ui-search-item__group__element')\n",
        "\n",
        "  for elemento in precos:\n",
        "    preco = re.findall('<span class=\"price-tag-fraction\">(.*)</span>', str(elemento))\n",
        "    lista_precos.append(float(preco[0])*1000)   \n",
        "\n",
        "  for elemento in dimensoes_e_quartos:\n",
        "    lista_areas_quartos.append(elemento.text)\n",
        "\n",
        "  for elemento in lista_areas_quartos:\n",
        "    quarto = re.findall(re_quartos, str(elemento))\n",
        "    dimensao = re.findall(re_dimensoes, str(elemento).replace(',', ''))\n",
        "\n",
        "    if quarto == []:\n",
        "      quarto = np.nan\n",
        "    else:\n",
        "      quarto = quarto[0]\n",
        "    \n",
        "    if dimensao == []:\n",
        "      dimensao = np.nan\n",
        "    else:\n",
        "      dimensao = dimensao[0]\n",
        "  \n",
        "    lista_quartos.append(quarto)\n",
        "    lista_dimensoes.append(dimensao)\n",
        "    lista_zonas.append(zona)\n",
        "\n",
        "  dados = {'zona': lista_zonas,\n",
        "           'precos':lista_precos,\n",
        "           'quartos':lista_quartos,\n",
        "           'areas': lista_dimensoes}\n",
        "  \n",
        "  df = pd.DataFrame(dados)\n",
        "  return df"
      ],
      "execution_count": 19,
      "outputs": []
    },
    {
      "cell_type": "code",
      "metadata": {
        "id": "yZ-mN3c_pVkz",
        "outputId": "f7a2b0a7-bd0d-4443-bb13-e2b558dd4c1e",
        "colab": {
          "base_uri": "https://localhost:8080/"
        }
      },
      "source": [
        "lista_dfs = []\n",
        "\n",
        "for zona in zonas:\n",
        "  for pagina in paginas:\n",
        "    url = f'https://imoveis.mercadolivre.com.br/aluguel/sao-paulo/sao-paulo-zona-{zona}/{pagina}'\n",
        "    print('Coletando dados de', url)\n",
        "    df = coleta_dados(url, zona)\n",
        "    lista_dfs.append(df)\n",
        "    sleep(2)\n",
        "print('Dados coletados!')"
      ],
      "execution_count": 20,
      "outputs": [
        {
          "output_type": "stream",
          "text": [
            "Coletando dados de https://imoveis.mercadolivre.com.br/aluguel/sao-paulo/sao-paulo-zona-sul/\n",
            "Coletando dados de https://imoveis.mercadolivre.com.br/aluguel/sao-paulo/sao-paulo-zona-sul/_Desde_49\n",
            "Coletando dados de https://imoveis.mercadolivre.com.br/aluguel/sao-paulo/sao-paulo-zona-sul/_Desde_97\n",
            "Coletando dados de https://imoveis.mercadolivre.com.br/aluguel/sao-paulo/sao-paulo-zona-sul/_Desde_145\n",
            "Coletando dados de https://imoveis.mercadolivre.com.br/aluguel/sao-paulo/sao-paulo-zona-sul/_Desde_193\n",
            "Coletando dados de https://imoveis.mercadolivre.com.br/aluguel/sao-paulo/sao-paulo-zona-sul/_Desde_241\n",
            "Coletando dados de https://imoveis.mercadolivre.com.br/aluguel/sao-paulo/sao-paulo-zona-norte/\n",
            "Coletando dados de https://imoveis.mercadolivre.com.br/aluguel/sao-paulo/sao-paulo-zona-norte/_Desde_49\n",
            "Coletando dados de https://imoveis.mercadolivre.com.br/aluguel/sao-paulo/sao-paulo-zona-norte/_Desde_97\n",
            "Coletando dados de https://imoveis.mercadolivre.com.br/aluguel/sao-paulo/sao-paulo-zona-norte/_Desde_145\n",
            "Coletando dados de https://imoveis.mercadolivre.com.br/aluguel/sao-paulo/sao-paulo-zona-norte/_Desde_193\n",
            "Coletando dados de https://imoveis.mercadolivre.com.br/aluguel/sao-paulo/sao-paulo-zona-norte/_Desde_241\n",
            "Coletando dados de https://imoveis.mercadolivre.com.br/aluguel/sao-paulo/sao-paulo-zona-leste/\n",
            "Coletando dados de https://imoveis.mercadolivre.com.br/aluguel/sao-paulo/sao-paulo-zona-leste/_Desde_49\n",
            "Coletando dados de https://imoveis.mercadolivre.com.br/aluguel/sao-paulo/sao-paulo-zona-leste/_Desde_97\n",
            "Coletando dados de https://imoveis.mercadolivre.com.br/aluguel/sao-paulo/sao-paulo-zona-leste/_Desde_145\n",
            "Coletando dados de https://imoveis.mercadolivre.com.br/aluguel/sao-paulo/sao-paulo-zona-leste/_Desde_193\n",
            "Coletando dados de https://imoveis.mercadolivre.com.br/aluguel/sao-paulo/sao-paulo-zona-leste/_Desde_241\n",
            "Coletando dados de https://imoveis.mercadolivre.com.br/aluguel/sao-paulo/sao-paulo-zona-oeste/\n",
            "Coletando dados de https://imoveis.mercadolivre.com.br/aluguel/sao-paulo/sao-paulo-zona-oeste/_Desde_49\n",
            "Coletando dados de https://imoveis.mercadolivre.com.br/aluguel/sao-paulo/sao-paulo-zona-oeste/_Desde_97\n",
            "Coletando dados de https://imoveis.mercadolivre.com.br/aluguel/sao-paulo/sao-paulo-zona-oeste/_Desde_145\n",
            "Coletando dados de https://imoveis.mercadolivre.com.br/aluguel/sao-paulo/sao-paulo-zona-oeste/_Desde_193\n",
            "Coletando dados de https://imoveis.mercadolivre.com.br/aluguel/sao-paulo/sao-paulo-zona-oeste/_Desde_241\n",
            "Dados coletados!\n"
          ],
          "name": "stdout"
        }
      ]
    },
    {
      "cell_type": "code",
      "metadata": {
        "id": "QEepzwG0paBO"
      },
      "source": [
        "df = pd.concat(lista_dfs)"
      ],
      "execution_count": 21,
      "outputs": []
    },
    {
      "cell_type": "code",
      "metadata": {
        "id": "6a1it45upcG4",
        "outputId": "43faa41a-7f12-4a38-e275-8470ed1b15cc",
        "colab": {
          "base_uri": "https://localhost:8080/",
          "height": 204
        }
      },
      "source": [
        "df.head()"
      ],
      "execution_count": 23,
      "outputs": [
        {
          "output_type": "execute_result",
          "data": {
            "text/html": [
              "<div>\n",
              "<style scoped>\n",
              "    .dataframe tbody tr th:only-of-type {\n",
              "        vertical-align: middle;\n",
              "    }\n",
              "\n",
              "    .dataframe tbody tr th {\n",
              "        vertical-align: top;\n",
              "    }\n",
              "\n",
              "    .dataframe thead th {\n",
              "        text-align: right;\n",
              "    }\n",
              "</style>\n",
              "<table border=\"1\" class=\"dataframe\">\n",
              "  <thead>\n",
              "    <tr style=\"text-align: right;\">\n",
              "      <th></th>\n",
              "      <th>zona</th>\n",
              "      <th>precos</th>\n",
              "      <th>quartos</th>\n",
              "      <th>areas</th>\n",
              "    </tr>\n",
              "  </thead>\n",
              "  <tbody>\n",
              "    <tr>\n",
              "      <th>0</th>\n",
              "      <td>sul</td>\n",
              "      <td>500000.0</td>\n",
              "      <td>2</td>\n",
              "      <td>51</td>\n",
              "    </tr>\n",
              "    <tr>\n",
              "      <th>1</th>\n",
              "      <td>sul</td>\n",
              "      <td>1555.0</td>\n",
              "      <td>2</td>\n",
              "      <td>80</td>\n",
              "    </tr>\n",
              "    <tr>\n",
              "      <th>2</th>\n",
              "      <td>sul</td>\n",
              "      <td>800000.0</td>\n",
              "      <td>2</td>\n",
              "      <td>51</td>\n",
              "    </tr>\n",
              "    <tr>\n",
              "      <th>3</th>\n",
              "      <td>sul</td>\n",
              "      <td>20000.0</td>\n",
              "      <td>NaN</td>\n",
              "      <td>386</td>\n",
              "    </tr>\n",
              "    <tr>\n",
              "      <th>4</th>\n",
              "      <td>sul</td>\n",
              "      <td>2500.0</td>\n",
              "      <td>3</td>\n",
              "      <td>105</td>\n",
              "    </tr>\n",
              "  </tbody>\n",
              "</table>\n",
              "</div>"
            ],
            "text/plain": [
              "  zona    precos quartos areas\n",
              "0  sul  500000.0       2    51\n",
              "1  sul    1555.0       2    80\n",
              "2  sul  800000.0       2    51\n",
              "3  sul   20000.0     NaN   386\n",
              "4  sul    2500.0       3   105"
            ]
          },
          "metadata": {
            "tags": []
          },
          "execution_count": 23
        }
      ]
    },
    {
      "cell_type": "code",
      "metadata": {
        "id": "yb4uC6hXrn25",
        "outputId": "91a5b09a-4ff1-4e37-b9ab-b398c45d8181",
        "colab": {
          "base_uri": "https://localhost:8080/",
          "height": 204
        }
      },
      "source": [
        "df.tail()"
      ],
      "execution_count": 24,
      "outputs": [
        {
          "output_type": "execute_result",
          "data": {
            "text/html": [
              "<div>\n",
              "<style scoped>\n",
              "    .dataframe tbody tr th:only-of-type {\n",
              "        vertical-align: middle;\n",
              "    }\n",
              "\n",
              "    .dataframe tbody tr th {\n",
              "        vertical-align: top;\n",
              "    }\n",
              "\n",
              "    .dataframe thead th {\n",
              "        text-align: right;\n",
              "    }\n",
              "</style>\n",
              "<table border=\"1\" class=\"dataframe\">\n",
              "  <thead>\n",
              "    <tr style=\"text-align: right;\">\n",
              "      <th></th>\n",
              "      <th>zona</th>\n",
              "      <th>precos</th>\n",
              "      <th>quartos</th>\n",
              "      <th>areas</th>\n",
              "    </tr>\n",
              "  </thead>\n",
              "  <tbody>\n",
              "    <tr>\n",
              "      <th>43</th>\n",
              "      <td>oeste</td>\n",
              "      <td>2300.0</td>\n",
              "      <td>1</td>\n",
              "      <td>32</td>\n",
              "    </tr>\n",
              "    <tr>\n",
              "      <th>44</th>\n",
              "      <td>oeste</td>\n",
              "      <td>610000.0</td>\n",
              "      <td>NaN</td>\n",
              "      <td>42</td>\n",
              "    </tr>\n",
              "    <tr>\n",
              "      <th>45</th>\n",
              "      <td>oeste</td>\n",
              "      <td>1050.0</td>\n",
              "      <td>1</td>\n",
              "      <td>30</td>\n",
              "    </tr>\n",
              "    <tr>\n",
              "      <th>46</th>\n",
              "      <td>oeste</td>\n",
              "      <td>800000.0</td>\n",
              "      <td>NaN</td>\n",
              "      <td>30</td>\n",
              "    </tr>\n",
              "    <tr>\n",
              "      <th>47</th>\n",
              "      <td>oeste</td>\n",
              "      <td>1500.0</td>\n",
              "      <td>2</td>\n",
              "      <td>49</td>\n",
              "    </tr>\n",
              "  </tbody>\n",
              "</table>\n",
              "</div>"
            ],
            "text/plain": [
              "     zona    precos quartos areas\n",
              "43  oeste    2300.0       1    32\n",
              "44  oeste  610000.0     NaN    42\n",
              "45  oeste    1050.0       1    30\n",
              "46  oeste  800000.0     NaN    30\n",
              "47  oeste    1500.0       2    49"
            ]
          },
          "metadata": {
            "tags": []
          },
          "execution_count": 24
        }
      ]
    },
    {
      "cell_type": "code",
      "metadata": {
        "id": "L0HFBmaQrwmQ",
        "outputId": "8c0c815f-7fb7-433f-e4f3-880c86828c44",
        "colab": {
          "base_uri": "https://localhost:8080/"
        }
      },
      "source": [
        "df.shape"
      ],
      "execution_count": 25,
      "outputs": [
        {
          "output_type": "execute_result",
          "data": {
            "text/plain": [
              "(1152, 4)"
            ]
          },
          "metadata": {
            "tags": []
          },
          "execution_count": 25
        }
      ]
    },
    {
      "cell_type": "code",
      "metadata": {
        "id": "RSSaxV9mpeEw"
      },
      "source": [
        "df.to_csv('dados_mercado_livre.csv', index=False)"
      ],
      "execution_count": 27,
      "outputs": []
    },
    {
      "cell_type": "code",
      "metadata": {
        "id": "qrwk-x-Dphht"
      },
      "source": [
        "df = pd.read_csv('dados_mercado_livre.csv')"
      ],
      "execution_count": 28,
      "outputs": []
    },
    {
      "cell_type": "code",
      "metadata": {
        "id": "WTN3m-xVpjT4",
        "outputId": "c237e06a-08df-4fde-cb8b-7a4651d3c303",
        "colab": {
          "base_uri": "https://localhost:8080/"
        }
      },
      "source": [
        "type(dados)"
      ],
      "execution_count": 29,
      "outputs": [
        {
          "output_type": "execute_result",
          "data": {
            "text/plain": [
              "pandas.core.frame.DataFrame"
            ]
          },
          "metadata": {
            "tags": []
          },
          "execution_count": 29
        }
      ]
    },
    {
      "cell_type": "code",
      "metadata": {
        "id": "_0vml5b9plgJ",
        "outputId": "de126134-7a46-47d8-9a08-6afdb29a1047",
        "colab": {
          "base_uri": "https://localhost:8080/"
        }
      },
      "source": [
        "df.info()"
      ],
      "execution_count": 30,
      "outputs": [
        {
          "output_type": "stream",
          "text": [
            "<class 'pandas.core.frame.DataFrame'>\n",
            "RangeIndex: 1152 entries, 0 to 1151\n",
            "Data columns (total 4 columns):\n",
            " #   Column   Non-Null Count  Dtype  \n",
            "---  ------   --------------  -----  \n",
            " 0   zona     1152 non-null   object \n",
            " 1   precos   1152 non-null   float64\n",
            " 2   quartos  1122 non-null   float64\n",
            " 3   areas    1149 non-null   float64\n",
            "dtypes: float64(3), object(1)\n",
            "memory usage: 36.1+ KB\n"
          ],
          "name": "stdout"
        }
      ]
    },
    {
      "cell_type": "code",
      "metadata": {
        "id": "HAIrtFodpnw4",
        "outputId": "275e50b7-60a6-4fd9-ca4f-86267dbd3549",
        "colab": {
          "base_uri": "https://localhost:8080/"
        }
      },
      "source": [
        "df.count()"
      ],
      "execution_count": 31,
      "outputs": [
        {
          "output_type": "execute_result",
          "data": {
            "text/plain": [
              "zona       1152\n",
              "precos     1152\n",
              "quartos    1122\n",
              "areas      1149\n",
              "dtype: int64"
            ]
          },
          "metadata": {
            "tags": []
          },
          "execution_count": 31
        }
      ]
    },
    {
      "cell_type": "code",
      "metadata": {
        "id": "FZLYC9g3pqE0",
        "outputId": "ee375cd7-7f00-43ba-88da-41163d0f59f9",
        "colab": {
          "base_uri": "https://localhost:8080/"
        }
      },
      "source": [
        "df.isnull().sum()"
      ],
      "execution_count": 32,
      "outputs": [
        {
          "output_type": "execute_result",
          "data": {
            "text/plain": [
              "zona        0\n",
              "precos      0\n",
              "quartos    30\n",
              "areas       3\n",
              "dtype: int64"
            ]
          },
          "metadata": {
            "tags": []
          },
          "execution_count": 32
        }
      ]
    },
    {
      "cell_type": "code",
      "metadata": {
        "id": "Rzex4phipr_A",
        "outputId": "292392fa-be61-4f06-c807-fbc7f5eabd9b",
        "colab": {
          "base_uri": "https://localhost:8080/"
        }
      },
      "source": [
        "df.shape"
      ],
      "execution_count": 33,
      "outputs": [
        {
          "output_type": "execute_result",
          "data": {
            "text/plain": [
              "(1152, 4)"
            ]
          },
          "metadata": {
            "tags": []
          },
          "execution_count": 33
        }
      ]
    }
  ]
}